{
 "cells": [
  {
   "cell_type": "code",
   "execution_count": null,
   "id": "237268e2-3ff7-4fef-927d-3a991400bbb4",
   "metadata": {},
   "outputs": [],
   "source": [
    "def notepad():\n",
    "    notes={}\n",
    "    \n",
    "    while(True):\n",
    "        print(\"Notepad Menu\")\n",
    "        print(\"A.Add Note\")\n",
    "        print(\"V.View Notes\")\n",
    "        print(\"S.Search Note\")\n",
    "        print(\"D.Delete Note\")\n",
    "        print(\"E.Exit Programe\")\n",
    "        \n",
    "   choice_input= input(\"Enter your choice:\").upper()\n",
    "        title=input(\"Enter the note title:\")\n",
    "        content=input(\"Enter the note content:\")\n",
    "    if choice_input == \"A\":\n",
    "        notes[title] = content\n",
    "    elif choice_input == \"V\":\n",
    "        for title,content in notes.items():\n",
    "             print (f\"{title}:{content}\")\n",
    "    elif choice_input == \"S\":\n",
    "        title = input(\"Search title\")\n",
    "        if title\n",
    "    \n",
    "        "
   ]
  },
  {
   "cell_type": "code",
   "execution_count": null,
   "id": "0c031fd5-f507-40e7-a3c4-b0ccb77b9ad5",
   "metadata": {},
   "outputs": [],
   "source": [
    "def event_scheduler(event:dict,date:str,time:str,location:str):\n",
    "    birthday={}\n",
    "\n",
    "    while(True):\n",
    "        print(\" Event Menu\")\n",
    "        event=input(\"Enter the name of the event:\")\n",
    "        date=input(\"Enter the date of the event:\")\n",
    "        location=input(\"Enter the location of the event\")\n",
    "         \n",
    "    "
   ]
  }
 ],
 "metadata": {
  "kernelspec": {
   "display_name": "Python 3 (ipykernel)",
   "language": "python",
   "name": "python3"
  },
  "language_info": {
   "codemirror_mode": {
    "name": "ipython",
    "version": 3
   },
   "file_extension": ".py",
   "mimetype": "text/x-python",
   "name": "python",
   "nbconvert_exporter": "python",
   "pygments_lexer": "ipython3",
   "version": "3.13.2"
  },
  "widgets": {
   "application/vnd.jupyter.widget-state+json": {
    "state": {},
    "version_major": 2,
    "version_minor": 0
   }
  }
 },
 "nbformat": 4,
 "nbformat_minor": 5
}
