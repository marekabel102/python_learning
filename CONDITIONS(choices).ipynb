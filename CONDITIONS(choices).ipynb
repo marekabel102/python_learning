{
 "cells": [
  {
   "cell_type": "code",
   "execution_count": 1,
   "id": "29c1d562-7509-4ee0-ad6a-6cbd7089d33a",
   "metadata": {},
   "outputs": [
    {
     "name": "stdin",
     "output_type": "stream",
     "text": [
      "type: 1.Python 2.Java 3.HTML 4.Swift 5.C++: 8\n"
     ]
    },
    {
     "name": "stdout",
     "output_type": "stream",
     "text": [
      "Invalid Input\n"
     ]
    }
   ],
   "source": [
    "choice=int(input(\"type: 1.Python 2.Java 3.HTML 4.Swift 5.C++:\"))\n",
    "if choice== 1:\n",
    "    print(\"Welcome to Python\")\n",
    "elif choice== 2:\n",
    "    print(\"Welcome to Java\")\n",
    "elif choice== 3:\n",
    "    print(\"Welcome to HTML\")\n",
    "elif choice== 4:\n",
    "    print(\"Welcome to Swift\")\n",
    "elif choice== 5:\n",
    "    print(\"Welcome to C++\")\n",
    "else:\n",
    "    print(\"Invalid Input\")"
   ]
  },
  {
   "cell_type": "code",
   "execution_count": 40,
   "id": "16fe7864-5918-4521-993b-bb0ba6e735fc",
   "metadata": {},
   "outputs": [
    {
     "name": "stdin",
     "output_type": "stream",
     "text": [
      "Enter Your Score: 77.9\n"
     ]
    },
    {
     "name": "stdout",
     "output_type": "stream",
     "text": [
      "Very Good\n"
     ]
    }
   ],
   "source": [
    "score=input(\"Enter Your Score:\")\n",
    "score=float(score)\n",
    "if score >=80 and score<=100:\n",
    "    print(\"Excellent\")\n",
    "elif score <80 and score>=75:\n",
    "    print(\"Very Good\")\n",
    "elif score <75 and score>=60:\n",
    "     print(\"Good\")\n",
    "elif score <60 and score>=50:\n",
    "    print(\"Average\")\n",
    "elif score <50:\n",
    "    print(\"Fail\")\n",
    "else:\n",
    "    print(\"Enter your  Total Scores:\")"
   ]
  },
  {
   "cell_type": "code",
   "execution_count": 45,
   "id": "ae5b5d5e-5cdc-4e31-819a-88cbdc333041",
   "metadata": {},
   "outputs": [
    {
     "name": "stdout",
     "output_type": "stream",
     "text": [
      "Enter A,B,C,D,F:\n"
     ]
    },
    {
     "name": "stdin",
     "output_type": "stream",
     "text": [
      "Enter your grades: D\n"
     ]
    },
    {
     "name": "stdout",
     "output_type": "stream",
     "text": [
      "Avarage\n"
     ]
    }
   ],
   "source": [
    "print(\"Enter A,B,C,D,F:\")\n",
    "grade=input(\"Enter your grades:\")\n",
    "grades=str(grade)\n",
    "if grade==\"A\":\n",
    "   print(\"Excellent\")\n",
    "elif grade==\"B\":\n",
    "   print(\"Very Good\")\n",
    "elif grade==\"C\":\n",
    "   print(\"Good\")\n",
    "elif grade==\"D\":\n",
    "   print(\"Avarage\")\n",
    "elif grade==\"F\":\n",
    "   print(\"Fail\")\n",
    "else:\n",
    "   print(\"Enter your Grades\")"
   ]
  },
  {
   "cell_type": "code",
   "execution_count": null,
   "id": "9c54d6c7-967a-41b7-bdbf-f9d0b5b02859",
   "metadata": {},
   "outputs": [],
   "source": []
  }
 ],
 "metadata": {
  "kernelspec": {
   "display_name": "Python 3 (ipykernel)",
   "language": "python",
   "name": "python3"
  },
  "language_info": {
   "codemirror_mode": {
    "name": "ipython",
    "version": 3
   },
   "file_extension": ".py",
   "mimetype": "text/x-python",
   "name": "python",
   "nbconvert_exporter": "python",
   "pygments_lexer": "ipython3",
   "version": "3.13.2"
  }
 },
 "nbformat": 4,
 "nbformat_minor": 5
}
