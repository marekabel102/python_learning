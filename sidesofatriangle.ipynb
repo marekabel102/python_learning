{
 "cells": [
  {
   "cell_type": "code",
   "execution_count": 5,
   "id": "206af4a3-0608-4def-be6a-edf4111a2f1b",
   "metadata": {},
   "outputs": [
    {
     "name": "stdin",
     "output_type": "stream",
     "text": [
      "Put your first side: 4\n",
      "Put your second side: 3\n",
      "Put your third side: 2\n"
     ]
    },
    {
     "name": "stdout",
     "output_type": "stream",
     "text": [
      "Scalene Triangle\n"
     ]
    }
   ],
   "source": [
    "s1=int(input(\"Put your first side:\"))\n",
    "s2=int(input(\"Put your second side:\"))\n",
    "s3=int(input(\"Put your third side:\"))\n",
    "if s1==s2 and s2==s3:\n",
    "    result=\"Equilateral Triangle\"\n",
    "elif s1==s2 or s2==s3 or s1==s3:\n",
    "    result=\"Isosceles Triangle\"\n",
    "elif s1!=s2 and s2!=s3 and s1!=s3:\n",
    "    result=\"Scalene Triangle\"\n",
    "else:\n",
    "    result=\"Invalid input,use numbers to check\"\n",
    "print(f\"{result}\")"
   ]
  },
  {
   "cell_type": "code",
   "execution_count": null,
   "id": "f91c4afe-ec3f-44d9-be44-b39e82b4d462",
   "metadata": {},
   "outputs": [],
   "source": []
  }
 ],
 "metadata": {
  "kernelspec": {
   "display_name": "Python 3 (ipykernel)",
   "language": "python",
   "name": "python3"
  },
  "language_info": {
   "codemirror_mode": {
    "name": "ipython",
    "version": 3
   },
   "file_extension": ".py",
   "mimetype": "text/x-python",
   "name": "python",
   "nbconvert_exporter": "python",
   "pygments_lexer": "ipython3",
   "version": "3.13.2"
  }
 },
 "nbformat": 4,
 "nbformat_minor": 5
}
