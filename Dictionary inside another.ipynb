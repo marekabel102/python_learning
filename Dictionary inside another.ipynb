{
 "cells": [
  {
   "cell_type": "code",
   "execution_count": null,
   "metadata": {},
   "outputs": [],
   "source": [
    "def add_contact(contacts: dict, name: str, phone: str) -> dict:\n",
    "    \n",
    "    if contacts.get(name) is None:\n",
    "        contacts[\"name\"] = name\n",
    "        contacts[phone] = phone\n",
    "        print(f\"Contact '{name}' added successfully.\")\n",
    "    else:\n",
    "        response = input(f\"The contact '{contacts[name]}' already exists with phone number {contacts[phone]}. Do you want to overwrite it? (yes/no): \").strip().lower()\n",
    "        if response == \"yes\":\n",
    "            contacts[name] = name\n",
    "            contacts[phone] = phone\n",
    "            print(f\"Phone number for '{name}' has been updated.\")\n",
    "        elif response == \"no\":\n",
    "            print(f\"No changes made to the contact '{name}'.\")\n",
    "        else:\n",
    "            print(\"Invalid response. No changes made.\")\n",
    "    \n",
    "    return contacts\n",
    "\n"
   ]
  },
  {
   "cell_type": "code",
   "execution_count": 31,
   "metadata": {},
   "outputs": [],
   "source": [
    "contacts = {}"
   ]
  },
  {
   "cell_type": "code",
   "execution_count": null,
   "metadata": {},
   "outputs": [],
   "source": [
    "\n",
    "name = input(\"Enter the name you want to save: \")\n",
    "phone = input(f\"Enter the phone number of {name}: \")\n",
    "results = add_contact(contacts, name, phone)\n",
    "print(results)"
   ]
  },
  {
   "cell_type": "code",
   "execution_count": 42,
   "metadata": {},
   "outputs": [],
   "source": [
    "person ={}"
   ]
  },
  {
   "cell_type": "code",
   "execution_count": 43,
   "metadata": {},
   "outputs": [
    {
     "name": "stdout",
     "output_type": "stream",
     "text": [
      "None\n"
     ]
    }
   ],
   "source": [
    "print(person.get(\"age\"))"
   ]
  },
  {
   "cell_type": "code",
   "execution_count": 45,
   "metadata": {},
   "outputs": [
    {
     "name": "stdout",
     "output_type": "stream",
     "text": [
      "is none\n"
     ]
    }
   ],
   "source": [
    "if person.get(\"age\") is None:\n",
    "    print(\"is none\")"
   ]
  },
  {
   "cell_type": "code",
   "execution_count": null,
   "metadata": {},
   "outputs": [],
   "source": [
    "def update_cart(cart:dict, item_name:str,quantity:int)->dict:\n",
    "    if cart.get(item_name) is None:\n",
    "        cart[item_name]=quantity\n",
    "    elif quantity == 0:\n",
    "        del cart[item_name]\n",
    "        print(f\"the {item_name} has been deleted the Quantity was {quantity}\")\n",
    "    else:\n",
    "        cart[item_name]=quantity\n",
    "        print(f\"Successfuly updated {item_name} with {quantity}\")\n",
    "    return cart"
   ]
  },
  {
   "cell_type": "code",
   "execution_count": 50,
   "metadata": {},
   "outputs": [],
   "source": [
    "cart={}"
   ]
  },
  {
   "cell_type": "code",
   "execution_count": 59,
   "metadata": {},
   "outputs": [
    {
     "name": "stdout",
     "output_type": "stream",
     "text": [
      "Successfuly updated sugar with 0\n"
     ]
    },
    {
     "data": {
      "text/plain": [
       "{'sugar': 0, 'Rice': 4}"
      ]
     },
     "execution_count": 59,
     "metadata": {},
     "output_type": "execute_result"
    }
   ],
   "source": [
    "item_name = input(\"Enter the item you want to add\")\n",
    "quantity = int(input(f\"Enter the quantity of {item_name}\"))\n",
    "update_cart(cart, item_name, quantity)"
   ]
  },
  {
   "cell_type": "code",
   "execution_count": 3,
   "metadata": {},
   "outputs": [
    {
     "name": "stdout",
     "output_type": "stream",
     "text": [
      "name\n",
      "age\n"
     ]
    }
   ],
   "source": [
    "person={\"name\":\"peter\",\"age\":12}\n",
    "for value in person.keys():\n",
    "    print(value)"
   ]
  },
  {
   "cell_type": "code",
   "execution_count": 4,
   "metadata": {},
   "outputs": [],
   "source": [
    "if \"name\" in person:\n",
    "    del person[\"age\"]"
   ]
  },
  {
   "cell_type": "code",
   "execution_count": 5,
   "metadata": {},
   "outputs": [],
   "source": [
    "def add_contact(contacts: dict, name: str, phone: str) -> dict:\n",
    "    \n",
    "    if contacts.get(name) is None:\n",
    "        contacts[name] = phone\n",
    "\n",
    "        print(f\"Contact '{name}' added successfully.\")\n",
    "    else:\n",
    "        response = input(f\"The contact '{contacts[name]}' already exists with phone number . Do you want to overwrite it? (yes/no): \").strip().lower()\n",
    "        if response == \"yes\":\n",
    "            contacts[name] = phone\n",
    "            print(f\"Phone number for '{name}' has been updated.\")\n",
    "        elif response == \"no\":\n",
    "            print(f\"No changes made to the contact '{name}'.\")\n",
    "        else:\n",
    "            print(\"Invalid response. No changes made.\")\n",
    "    \n",
    "    return contacts\n",
    "\n"
   ]
  },
  {
   "cell_type": "code",
   "execution_count": 6,
   "metadata": {},
   "outputs": [],
   "source": [
    "def search_contacts(contacts:dict, query:str):\n",
    "    if query in contacts:\n",
    "        print(contacts[query])\n",
    "    else:\n",
    "        print(\"Contact no found\")\n",
    "    "
   ]
  },
  {
   "cell_type": "code",
   "execution_count": 7,
   "metadata": {},
   "outputs": [],
   "source": [
    "contacts={}"
   ]
  },
  {
   "cell_type": "code",
   "execution_count": 10,
   "metadata": {},
   "outputs": [
    {
     "name": "stdout",
     "output_type": "stream",
     "text": [
      "Contact 'peter' added successfully.\n"
     ]
    },
    {
     "data": {
      "text/plain": [
       "{'rhodrick': '08859', 'peter': '08787'}"
      ]
     },
     "execution_count": 10,
     "metadata": {},
     "output_type": "execute_result"
    }
   ],
   "source": [
    "item_name = input(\"Enter the name you want to add \")\n",
    "quantity = input(f\"Enter the phone number of {item_name}\")\n",
    "add_contact(contacts, item_name, quantity)"
   ]
  },
  {
   "cell_type": "code",
   "execution_count": 12,
   "metadata": {},
   "outputs": [
    {
     "name": "stdout",
     "output_type": "stream",
     "text": [
      "Contact no found\n"
     ]
    }
   ],
   "source": [
    "query =input(\"What are looking for?\")\n",
    "search_contacts(contacts, query)"
   ]
  },
  {
   "cell_type": "code",
   "execution_count": 17,
   "metadata": {},
   "outputs": [
    {
     "name": "stdout",
     "output_type": "stream",
     "text": [
      "your Note was added\n",
      "None\n",
      "book : this book is free\n",
      "None\n",
      "your Note was added\n",
      "None\n",
      "book : this book is free\n",
      "green : ojjkj\n",
      "None\n",
      "your results forojjkj\n",
      "None\n",
      "your results forojjkj\n",
      "None\n",
      "No results\n",
      "None\n",
      "the Note has been deleted\n",
      "None\n",
      "the Note has been deleted\n",
      "None\n",
      "None\n"
     ]
    }
   ],
   "source": [
    "def add_new_note(note_storage:dict,content:str,title:str):\n",
    "    if note_storage.get(title) is None :\n",
    "        note_storage[title]=content\n",
    "        print(\"your Note was added\")\n",
    "\n",
    "def view_note (note_storage:dict):\n",
    "    for key,value in note_storage.items() :\n",
    "        print(f\"{key} : {value}\")   \n",
    "\n",
    "def search_note (note_storage:dict,query:str) :\n",
    "\n",
    "    if query in note_storage :\n",
    "        print(f\"your results for{note_storage[query]}\")\n",
    "    else:\n",
    "        print(\"no results found\")\n",
    "\n",
    "def del_note (note_storage:dict,query:str)  :\n",
    "    if query in note_storage:\n",
    "        del note_storage[query]\n",
    "        print(\"the Note has been deleted\")  \n",
    "    else:\n",
    "        print(\"No results\")  \n",
    "\n",
    "note_storage={}\n",
    "while True:\n",
    "    menu=int(input(\"1.New note 2.View note 3.Search 4.Delete Note 5.Exit: \"))\n",
    "\n",
    "    if menu == 1 :\n",
    "        title=input(\"Create a Note: \")\n",
    "        content=input(\"Write content inside: \")\n",
    "\n",
    "        print(add_new_note(note_storage,content,title))\n",
    "    elif menu == 2 :\n",
    "        print(view_note(note_storage))\n",
    "\n",
    "    elif menu == 3 :\n",
    "        search=input(\"Search for any Note by title: \")\n",
    "        print(search_note(note_storage,search))\n",
    "\n",
    "    elif menu == 4 :\n",
    "         del_search=input(\"Enter a Note to delete: \")\n",
    "         print(del_note(note_storage,del_search))\n",
    "    \n",
    "    elif menu == 5 :\n",
    "        break\n",
    "\n",
    "    else:\n",
    "        print(\"Enter valid data\")\n"
   ]
  },
  {
   "cell_type": "code",
   "execution_count": 2,
   "metadata": {},
   "outputs": [],
   "source": [
    "events ={\"birthday\": {\"time\":9,\"date\":2024-0,\"location\":\"default\"}}"
   ]
  },
  {
   "cell_type": "code",
   "execution_count": null,
   "metadata": {},
   "outputs": [
    {
     "name": "stdout",
     "output_type": "stream",
     "text": [
      "<class 'str'>\n"
     ]
    }
   ],
   "source": [
    "for key, value in events.items():\n",
    "    "
   ]
  },
  {
   "cell_type": "code",
   "execution_count": null,
   "metadata": {},
   "outputs": [],
   "source": [
    "def add_event(events):\n",
    "    event_name = input(\"Enter event name: \").strip()\n",
    "    if not event_name:\n",
    "        print(\"Event name cannot be empty.\")\n",
    "        return\n",
    "    if event_name in events:\n",
    "        print(f\"Event '{event_name}' already exists.\")\n",
    "    else:\n",
    "        date = input(\"Enter date: \").strip()\n",
    "        time = input(\"Enter time: \").strip()\n",
    "        location = input(\"Enter location: \").strip()\n",
    "        events[event_name] = {\"date\": date, \"time\": time, \"location\": location}\n",
    "        print(f\"Event '{event_name}' added successfully.\")\n",
    "\n",
    "def view_events(events):\n",
    "    if not events:\n",
    "        print(\"No events scheduled.\")\n",
    "    else:\n",
    "        for name in events:\n",
    "            print(f\"\\nEvent: {name}\")\n",
    "            print(f\"Date: {events[name]['date']}\")\n",
    "            print(f\"Time: {events[name]['time']}\")\n",
    "            print(f\"Location: {events[name]['location']}\")\n",
    "\n",
    "def search_event(events):\n",
    "    name = input(\"Enter event name to search: \").strip()\n",
    "    event = events.get(name)\n",
    "    if event:\n",
    "        print(f\"\\nEvent: {name}\")\n",
    "        print(f\"Date: {event['date']}\")\n",
    "        print(f\"Time: {event['time']}\")\n",
    "        print(f\"Location: {event['location']}\")\n",
    "    else:\n",
    "        print(f\"Event '{name}' not found.\")\n",
    "\n",
    "def update_event(events):\n",
    "    name = input(\"Enter event name to update: \").strip()\n",
    "    if name not in events:\n",
    "        print(f\"Event '{name}' not found.\")\n",
    "        return\n",
    "\n",
    "    print(\"\\nWhat would you like to update?\")\n",
    "    print(\"1. Date\")\n",
    "    print(\"2. Time\")\n",
    "    print(\"3. Location\")\n",
    "    print(\"4. All\")\n",
    "\n",
    "    update_choice = input(\"Enter your choice (1-4): \").strip()\n",
    "    if not update_choice.isdigit():\n",
    "        print(\"Invalid choice. Please enter 1-4.\")\n",
    "        return\n",
    "\n",
    "    choice = int(update_choice)\n",
    "    if choice == 1:\n",
    "        new_date = input(\"Enter new date: \").strip()\n",
    "        events[name]['date'] = new_date\n",
    "        print(\"Date updated.\")\n",
    "    elif choice == 2:\n",
    "        new_time = input(\"Enter new time: \").strip()\n",
    "        events[name]['time'] = new_time\n",
    "        print(\"Time updated.\")\n",
    "    elif choice == 3:\n",
    "        new_location = input(\"Enter new location: \").strip()\n",
    "        events[name]['location'] = new_location\n",
    "        print(\"Location updated.\")\n",
    "    elif choice == 4:\n",
    "        new_date = input(\"Enter new date: \").strip()\n",
    "        new_time = input(\"Enter new time: \").strip()\n",
    "        new_location = input(\"Enter new location: \").strip()\n",
    "        events[name].update({\n",
    "            'date': new_date,\n",
    "            'time': new_time,\n",
    "            'location': new_location\n",
    "        })\n",
    "        print(\"All details updated.\")\n",
    "    else:\n",
    "        print(\"Invalid choice.\")\n",
    "\n",
    "def delete_event(events):\n",
    "    name = input(\"Enter event name to delete: \").strip()\n",
    "    if name not in events:\n",
    "        print(f\"Event '{name}' not found.\")\n",
    "    else:\n",
    "        del events[name]\n",
    "        print(f\"Event '{name}' deleted successfully.\")\n",
    "\n",
    "def event_scheduler():\n",
    "    events = {}\n",
    "    while True:\n",
    "        print(\"\\nEvent Scheduler Menu:\")\n",
    "        print(\"1. Add a new event\")\n",
    "        print(\"2. View all events\")\n",
    "        print(\"3. Search for an event by name\")\n",
    "        print(\"4. Update event details\")\n",
    "        print(\"5. Delete an event\")\n",
    "        print(\"Enter anything else to exit\")\n",
    "        \n",
    "        choice = input(\"Enter your choice: \").strip()\n",
    "        \n",
    "        if not choice.isdigit():\n",
    "            print(\"Exiting...\")\n",
    "            break\n",
    "        \n",
    "        choice = int(choice)\n",
    "        \n",
    "        handlers = {\n",
    "            1: add_event,\n",
    "            2: view_events,\n",
    "            3: search_event,\n",
    "            4: update_event,\n",
    "            5: delete_event\n",
    "        }\n",
    "        \n",
    "        handler = handlers.get(choice)\n",
    "        if handler:\n",
    "            handler(events)\n",
    "        else:\n",
    "            print(\"Invalid choice. Please try again.\")"
   ]
  },
  {
   "cell_type": "code",
   "execution_count": 1,
   "metadata": {},
   "outputs": [],
   "source": [
    "event ={\"birthday\":{\"time\":\"\",\"location\":\"Lilongwe\"}}"
   ]
  },
  {
   "cell_type": "code",
   "execution_count": 2,
   "metadata": {},
   "outputs": [
    {
     "name": "stdout",
     "output_type": "stream",
     "text": [
      "Lilongwe\n"
     ]
    }
   ],
   "source": [
    "print(event[\"birthday\"][\"location\"])"
   ]
  },
  {
   "cell_type": "code",
   "execution_count": null,
   "metadata": {},
   "outputs": [],
   "source": [
    "def event_scheduler():\n",
    "    events ={}\n",
    "    while True:\n",
    "        print(\"1.Add a new event.\")\n",
    "        print(\"2.View all events. \")\n",
    "        print(\"3.Search for an event by name. \")\n",
    "        print(\"4.Update event details.\")\n",
    "        print(\"5.Delete an event.\")\n",
    "        print(\"6.Exit the program.\")\n",
    "\n",
    "        choice = int(input(\"Enter a choice\"))\n",
    "\n",
    "        if choice ==1:\n",
    "            add_event(events)\n",
    "        elif choice ==2:\n",
    "            view_events(events)\n",
    "        elif choice ==3:\n",
    "            search_event(events)\n",
    "        elif choice ==4:\n",
    "            update_event(events)\n",
    "        elif choice ==5:\n",
    "            delete_event(events)\n",
    "        elif choice ==6:\n",
    "            break\n",
    "        else:\n",
    "            print(\"invalid option please choose 1-6\")\n",
    "\n",
    "\n",
    "\n",
    " \n"
   ]
  },
  {
   "cell_type": "code",
   "execution_count": null,
   "metadata": {},
   "outputs": [],
   "source": []
  },
  {
   "cell_type": "code",
   "execution_count": 10,
   "metadata": {},
   "outputs": [],
   "source": [
    "events = {'party': {'date': '2024-09-21', 'time': '9am', 'location': 'zanzibar'}}"
   ]
  },
  {
   "cell_type": "code",
   "execution_count": 6,
   "metadata": {},
   "outputs": [
    {
     "name": "stdout",
     "output_type": "stream",
     "text": [
      "2024-09-21\n"
     ]
    }
   ],
   "source": [
    "print(events[\"party\"][\"date\"])"
   ]
  },
  {
   "cell_type": "code",
   "execution_count": null,
   "metadata": {},
   "outputs": [],
   "source": []
  }
 ],
 "metadata": {
  "kernelspec": {
   "display_name": "Python 3 (ipykernel)",
   "language": "python",
   "name": "python3"
  },
  "language_info": {
   "codemirror_mode": {
    "name": "ipython",
    "version": 3
   },
   "file_extension": ".py",
   "mimetype": "text/x-python",
   "name": "python",
   "nbconvert_exporter": "python",
   "pygments_lexer": "ipython3",
   "version": "3.13.2"
  },
  "widgets": {
   "application/vnd.jupyter.widget-state+json": {
    "state": {},
    "version_major": 2,
    "version_minor": 0
   }
  }
 },
 "nbformat": 4,
 "nbformat_minor": 4
}
