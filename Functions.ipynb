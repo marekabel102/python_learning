{
 "cells": [
  {
   "cell_type": "code",
   "execution_count": 23,
   "id": "f4b5e70c-4bf0-47ac-99dd-f7bbcdc55e88",
   "metadata": {},
   "outputs": [
    {
     "name": "stdout",
     "output_type": "stream",
     "text": [
      "Hellow world\n"
     ]
    }
   ],
   "source": [
    "def greet():\n",
    "    text_messege=\"Hellow world\"\n",
    "    return text_messege\n",
    "greet()\n",
    "result=greet()\n",
    "print(greet())"
   ]
  },
  {
   "cell_type": "code",
   "execution_count": 3,
   "id": "b3fc2567-27be-4b8c-b388-365bbee8f00a",
   "metadata": {},
   "outputs": [
    {
     "name": "stdin",
     "output_type": "stream",
     "text": [
      "Enter the temperature of the day: 13\n"
     ]
    },
    {
     "name": "stdout",
     "output_type": "stream",
     "text": [
      "its chilly outside.Wear a jacket\n"
     ]
    }
   ],
   "source": [
    "def check_weather(Temp):\n",
    "    temp=Temp\n",
    "    if temp <=0:\n",
    "        return f\"its freezing,stay warm\"\n",
    "    elif temp >=0 and temp <=15:\n",
    "        return f\"its chilly outside.Wear a jacket\"\n",
    "    elif temp >=16 and temp <=25:\n",
    "        return f\"Perfect weather for a walk\"\n",
    "    elif temp >25:\n",
    "        return f\"Its hot stay hydrated\"\n",
    "Temp=float(input(\"Enter the temperature of the day:\"))           \n",
    "print(check_weather(Temp))"
   ]
  },
  {
   "cell_type": "code",
   "execution_count": 32,
   "id": "b2a89ac2-0597-439a-bd2a-87c373fdbc31",
   "metadata": {},
   "outputs": [
    {
     "name": "stdin",
     "output_type": "stream",
     "text": [
      "Enter your age: 26\n",
      "Enter the price: 500\n"
     ]
    },
    {
     "name": "stdout",
     "output_type": "stream",
     "text": [
      "0.0\n"
     ]
    },
    {
     "data": {
      "text/plain": [
       "500.0"
      ]
     },
     "execution_count": 32,
     "metadata": {},
     "output_type": "execute_result"
    }
   ],
   "source": [
    "def movie_ticket_booking(age,ticekt_price):\n",
    "    if age < 12 :\n",
    "        discount=ticket_price* 0.5\n",
    "        final_price=ticket_\n",
    "        return final_price\n",
    "    elif age >=12 and age <60:\n",
    "        return ticket_price\n",
    "    elif age >=60:\n",
    "        return ticket_price*0.3\n",
    "discount=0        \n",
    "age=int(input(\"Enter your age:\"))\n",
    "ticket_price=float(input(\"Enter the price:\"))\n",
    "final_ticket_price=ticket_price*discount\n",
    "print(f\"{final_ticket_price}\")\n",
    "\n",
    "movie_ticket_booking(age,ticket_price)"
   ]
  },
  {
   "cell_type": "code",
   "execution_count": 50,
   "id": "612024d5-2fe9-4af6-a560-63395bf0a7c1",
   "metadata": {},
   "outputs": [
    {
     "name": "stdin",
     "output_type": "stream",
     "text": [
      "Enter the number of glasses of water you drunk today: 2\n",
      "Enter the number of glasses of water you drunk today: 2\n"
     ]
    },
    {
     "name": "stdout",
     "output_type": "stream",
     "text": [
      " Goal not met!you've only drunk 0.5 liters today Continue drinking water to meet your goal\n"
     ]
    }
   ],
   "source": [
    "def track_water_intake():\n",
    "    drinkWater=int(input(\"Enter the number of glasses of water you drunk today:\"))\n",
    "    consumedWater=int(drinkWater*250)/1000\n",
    "    if consumedWater >=2:\n",
    "        return f\"Goal met! you drink atleast {consumedWater} liters of water today\"\n",
    "    else:\n",
    "        return f\" Goal not met!you've only drunk {consumedWater} liters today Continue drinking water to meet your goal\" \n",
    "        \n",
    "track_water_intake()\n",
    "print(track_water_intake())"
   ]
  },
  {
   "cell_type": "code",
   "execution_count": 56,
   "id": "93c24c04-8842-4e78-b2fc-f613f8f17591",
   "metadata": {},
   "outputs": [
    {
     "name": "stdin",
     "output_type": "stream",
     "text": [
      "Enter the total price: 66\n",
      "Enter the percantage e.g 0.15 for 15%: 77\n",
      "Enter any number to split the bill: 4\n"
     ]
    },
    {
     "ename": "NameError",
     "evalue": "name 'tip_percentage' is not defined",
     "output_type": "error",
     "traceback": [
      "\u001b[1;31m---------------------------------------------------------------------------\u001b[0m",
      "\u001b[1;31mNameError\u001b[0m                                 Traceback (most recent call last)",
      "Cell \u001b[1;32mIn[56], line 12\u001b[0m\n\u001b[0;32m      8\u001b[0m tip_percantage\u001b[38;5;241m=\u001b[39m\u001b[38;5;28mfloat\u001b[39m(\u001b[38;5;28minput\u001b[39m(\u001b[38;5;124m\"\u001b[39m\u001b[38;5;124mEnter the percantage e.g 0.15 for 15\u001b[39m\u001b[38;5;124m%\u001b[39m\u001b[38;5;124m:\u001b[39m\u001b[38;5;124m\"\u001b[39m))\n\u001b[0;32m      9\u001b[0m split\u001b[38;5;241m=\u001b[39m\u001b[38;5;28mint\u001b[39m(\u001b[38;5;28minput\u001b[39m(\u001b[38;5;124m\"\u001b[39m\u001b[38;5;124mEnter any number to split the bill:\u001b[39m\u001b[38;5;124m\"\u001b[39m))\n\u001b[1;32m---> 12\u001b[0m \u001b[38;5;28mprint\u001b[39m(\u001b[43mcalculate_tip\u001b[49m\u001b[43m(\u001b[49m\u001b[43mtotal_bill\u001b[49m\u001b[43m,\u001b[49m\u001b[43mtip_percantage\u001b[49m\u001b[43m,\u001b[49m\u001b[43msplit\u001b[49m\u001b[43m)\u001b[49m)\n\u001b[0;32m     13\u001b[0m calculate_tip(total_bill,tip_percantage,split)\n",
      "Cell \u001b[1;32mIn[56], line 3\u001b[0m, in \u001b[0;36mcalculate_tip\u001b[1;34m(total_bill, tip_percantage, split)\u001b[0m\n\u001b[0;32m      1\u001b[0m \u001b[38;5;28;01mdef\u001b[39;00m\u001b[38;5;250m \u001b[39m\u001b[38;5;21mcalculate_tip\u001b[39m(total_bill,tip_percantage,split):\n\u001b[0;32m      2\u001b[0m     total_bill\u001b[38;5;241m=\u001b[39msplit\u001b[38;5;241m*\u001b[39mtip_percantage\n\u001b[1;32m----> 3\u001b[0m     total_amount\u001b[38;5;241m=\u001b[39m\u001b[43mtip_percentage\u001b[49m\u001b[38;5;241m+\u001b[39mtotal_bill\n\u001b[0;32m      4\u001b[0m     amount_per_person\u001b[38;5;241m=\u001b[39mtotal_amount\u001b[38;5;241m/\u001b[39msplit\n\u001b[0;32m      5\u001b[0m     tip_amount\u001b[38;5;241m=\u001b[39mtotal_amount\u001b[38;5;241m/\u001b[39mamount_per_person\n",
      "\u001b[1;31mNameError\u001b[0m: name 'tip_percentage' is not defined"
     ]
    }
   ],
   "source": [
    "def calculate_tip(total_bill,tip_percantage,split):\n",
    "    total_bill=split*tip_percantage\n",
    "    total_amount=tip_percentage+total_bill\n",
    "    amount_per_person=total_amount/split\n",
    "    tip_amount=total_amount/amount_per_person\n",
    "    return f\"The tip amount is {tip_amount} and total amount is {total_amaount} and amount per person is {amount_per_person}\"\n",
    "total_bill=float(input(\"Enter the total price:\"))\n",
    "tip_percantage=float(input(\"Enter the percantage e.g 0.15 for 15%:\"))\n",
    "split=int(input(\"Enter any number to split the bill:\"))\n",
    "\n",
    "\n",
    "print(calculate_tip(total_bill,tip_percantage,split))\n",
    "calculate_tip(total_bill,tip_percantage,split)"
   ]
  },
  {
   "cell_type": "code",
   "execution_count": null,
   "id": "eddf5054-74ad-442f-850e-57835d06688c",
   "metadata": {},
   "outputs": [],
   "source": []
  }
 ],
 "metadata": {
  "kernelspec": {
   "display_name": "Python 3 (ipykernel)",
   "language": "python",
   "name": "python3"
  },
  "language_info": {
   "codemirror_mode": {
    "name": "ipython",
    "version": 3
   },
   "file_extension": ".py",
   "mimetype": "text/x-python",
   "name": "python",
   "nbconvert_exporter": "python",
   "pygments_lexer": "ipython3",
   "version": "3.13.2"
  },
  "widgets": {
   "application/vnd.jupyter.widget-state+json": {
    "state": {},
    "version_major": 2,
    "version_minor": 0
   }
  }
 },
 "nbformat": 4,
 "nbformat_minor": 5
}
