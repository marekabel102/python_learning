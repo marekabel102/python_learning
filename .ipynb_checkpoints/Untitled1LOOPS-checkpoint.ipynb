{
 "cells": [
  {
   "cell_type": "code",
   "execution_count": 7,
   "id": "30e57c72-db8b-403e-bd3d-a7a39252fee0",
   "metadata": {},
   "outputs": [
    {
     "name": "stdin",
     "output_type": "stream",
     "text": [
      "Enter Any Number: 3\n"
     ]
    },
    {
     "name": "stdout",
     "output_type": "stream",
     "text": [
      "No!The number is small\n"
     ]
    },
    {
     "name": "stdin",
     "output_type": "stream",
     "text": [
      "Enter Any Number: 9\n"
     ]
    },
    {
     "name": "stdout",
     "output_type": "stream",
     "text": [
      "No!The number  is big\n"
     ]
    },
    {
     "name": "stdin",
     "output_type": "stream",
     "text": [
      "Enter Any Number: 8\n"
     ]
    },
    {
     "name": "stdout",
     "output_type": "stream",
     "text": [
      "Yes!That's the right number\n"
     ]
    }
   ],
   "source": [
    "guessNumber=8\n",
    "while(True):\n",
    "    number=int(input(\"Enter Any Number:\"))\n",
    "    if number==guessNumber:\n",
    "        print(\"Yes!That's the right number\")\n",
    "        break\n",
    "    elif number< guessNumber:\n",
    "        print(\"No!The number is small\")\n",
    "    else:\n",
    "        print(\"No!The number  is big\")"
   ]
  },
  {
   "cell_type": "code",
   "execution_count": 16,
   "id": "574476eb-5fd2-492c-9159-63a5f3a1707e",
   "metadata": {},
   "outputs": [
    {
     "name": "stdin",
     "output_type": "stream",
     "text": [
      "Enter password: mjng\n"
     ]
    },
    {
     "name": "stdout",
     "output_type": "stream",
     "text": [
      "Incorrect Password!You are Remaining With 2 Trials\n"
     ]
    },
    {
     "name": "stdin",
     "output_type": "stream",
     "text": [
      "Enter password: kjmn\n"
     ]
    },
    {
     "name": "stdout",
     "output_type": "stream",
     "text": [
      "Incorrect Password!You are Remaining With 1 Trials\n"
     ]
    },
    {
     "name": "stdin",
     "output_type": "stream",
     "text": [
      "Enter password: malekano\n"
     ]
    },
    {
     "name": "stdout",
     "output_type": "stream",
     "text": [
      "Welcome!\n"
     ]
    }
   ],
   "source": [
    "guessPassword=\"malekano\"\n",
    "while(True):\n",
    "    password=str(input(\"Enter password:\"))\n",
    "    if password==guessPassword:\n",
    "        print(\"Welcome!\")\n",
    "        break\n",
    "    elif password<=guessPassword:\n",
    "        print(\"Incorrect Password!You are Remaining With 1 Trials\")\n",
    "    elif password!= guessPassword:\n",
    "        print(\"Incorrect Password!You are Remaining With 2 Trials\")\n",
    "    else:\n",
    "        print(\"Incorrect Password!You are Blocked\")\n",
    "    "
   ]
  },
  {
   "cell_type": "code",
   "execution_count": null,
   "id": "d85b335d-3554-4660-a9e0-b953264d7e72",
   "metadata": {},
   "outputs": [],
   "source": []
  }
 ],
 "metadata": {
  "kernelspec": {
   "display_name": "Python 3 (ipykernel)",
   "language": "python",
   "name": "python3"
  },
  "language_info": {
   "codemirror_mode": {
    "name": "ipython",
    "version": 3
   },
   "file_extension": ".py",
   "mimetype": "text/x-python",
   "name": "python",
   "nbconvert_exporter": "python",
   "pygments_lexer": "ipython3",
   "version": "3.13.2"
  }
 },
 "nbformat": 4,
 "nbformat_minor": 5
}
