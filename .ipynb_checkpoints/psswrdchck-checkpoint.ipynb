{
 "cells": [
  {
   "cell_type": "code",
   "execution_count": 1,
   "id": "09cee6e5-7af4-4903-b219-5dfef7cc9359",
   "metadata": {},
   "outputs": [
    {
     "name": "stdout",
     "output_type": "stream",
     "text": [
      "Password Strength Check\n"
     ]
    }
   ],
   "source": [
    "print(\"Password Strength Check\")"
   ]
  },
  {
   "cell_type": "code",
   "execution_count": 8,
   "id": "dd721f58-9f5c-4fa0-b77a-253c40b32f4b",
   "metadata": {},
   "outputs": [
    {
     "name": "stdin",
     "output_type": "stream",
     "text": [
      "Enter password: Kanyanga1745\n"
     ]
    },
    {
     "name": "stdout",
     "output_type": "stream",
     "text": [
      "The password is Too long,Try Again\n"
     ]
    }
   ],
   "source": [
    "password=input(\"Enter password:\")\n",
    "\n",
    "hasDigits = False\n",
    "hasUppercase = False\n",
    "hasLowercase = False\n",
    "passwordLength = 0\n",
    "\n",
    "for character in password:\n",
    "    passwordLength+=1\n",
    "    if \"0\" <= character <= \"9\":\n",
    "        hasDigits=True\n",
    "    elif \"A\" <= character <=\"Z\":\n",
    "        hasUppercase=True\n",
    "    elif \"a\" <= character <= \"z\":\n",
    "        hasLowercase=True\n",
    "if passwordLength <10:\n",
    "    print(\" The Password is Too Short,Try Again!\")\n",
    "elif passwordLength >10:\n",
    "    print(\"The password is Too long,Try Again\")\n",
    "elif hasDigits and hasUppercase and hasLowercase:\n",
    "    print(\"Strong Password\")\n",
    "else:\n",
    "    print(\"Weak Password,your password should contain atleast one uppercase,one lowercase and one digit!\")"
   ]
  }
 ],
 "metadata": {
  "kernelspec": {
   "display_name": "Python 3 (ipykernel)",
   "language": "python",
   "name": "python3"
  },
  "language_info": {
   "codemirror_mode": {
    "name": "ipython",
    "version": 3
   },
   "file_extension": ".py",
   "mimetype": "text/x-python",
   "name": "python",
   "nbconvert_exporter": "python",
   "pygments_lexer": "ipython3",
   "version": "3.13.2"
  }
 },
 "nbformat": 4,
 "nbformat_minor": 5
}
