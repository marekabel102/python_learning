{
 "cells": [
  {
   "cell_type": "code",
   "execution_count": 7,
   "id": "cc673578-2356-4c8f-a416-22b39ed647ba",
   "metadata": {},
   "outputs": [
    {
     "name": "stdin",
     "output_type": "stream",
     "text": [
      "Type a name of the item: Munchies\n",
      "Enter the quantity of the item: 2\n"
     ]
    },
    {
     "name": "stdout",
     "output_type": "stream",
     "text": [
      "The Munchies have been added to the cart successfully\n",
      "The Munchies have been modified\n"
     ]
    }
   ],
   "source": [
    "def update_cart(cart:dict,item_name:str,quantity:int):\n",
    "    if cart.get(item_name) is None:\n",
    "        cart[item_name]=quantity\n",
    "        print (f\"The {item_name} have been added to the cart successfully\")\n",
    "    elif quantity == 0:\n",
    "        cart.pop(item_name)\n",
    "        print(f\"The {item_name} has been removed from the cart\")\n",
    "    else:\n",
    "        cart[quantity]=item_name\n",
    "        print(f\"The {item_name} have been modified\")\n",
    "    return cart\n",
    "    \n",
    "cart={}\n",
    "item_name=input(\"Type a name of the item:\")\n",
    "quantity=int(input(\"Enter the quantity of the item:\"))\n",
    "update_cart(cart,item_name,quantity)\n",
    "result=update_cart(cart,item_name,quantity)"
   ]
  },
  {
   "cell_type": "code",
   "execution_count": null,
   "id": "e11f2c74-0605-4327-9438-3db10d4a0927",
   "metadata": {},
   "outputs": [],
   "source": []
  }
 ],
 "metadata": {
  "kernelspec": {
   "display_name": "Python 3 (ipykernel)",
   "language": "python",
   "name": "python3"
  },
  "language_info": {
   "codemirror_mode": {
    "name": "ipython",
    "version": 3
   },
   "file_extension": ".py",
   "mimetype": "text/x-python",
   "name": "python",
   "nbconvert_exporter": "python",
   "pygments_lexer": "ipython3",
   "version": "3.13.2"
  },
  "widgets": {
   "application/vnd.jupyter.widget-state+json": {
    "state": {},
    "version_major": 2,
    "version_minor": 0
   }
  }
 },
 "nbformat": 4,
 "nbformat_minor": 5
}
