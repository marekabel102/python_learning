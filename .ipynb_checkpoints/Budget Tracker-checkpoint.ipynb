{
 "cells": [
  {
   "cell_type": "code",
   "execution_count": 7,
   "id": "c7a64f3c-526f-4dae-92af-a2adf3f007dc",
   "metadata": {},
   "outputs": [
    {
     "data": {
      "text/plain": [
       "200"
      ]
     },
     "execution_count": 7,
     "metadata": {},
     "output_type": "execute_result"
    }
   ],
   "source": [
    "categories={\"Jiggies\":200,\"Milk\":199.9}\n",
    "def calculate_total_expenses(categories:dict):\n",
    "    total= 0\n",
    "    for key in categories.values():\n",
    "        total += key\n",
    "        return total\n",
    "\n",
    "calculate_total_expenses(categories)        "
   ]
  },
  {
   "cell_type": "code",
   "execution_count": 24,
   "id": "4a592dd0-3480-4019-bb30-18396613b5a7",
   "metadata": {},
   "outputs": [
    {
     "name": "stdin",
     "output_type": "stream",
     "text": [
      "Enter the name of the pet: Snow\n",
      "Enter the type of the pet: Cat\n"
     ]
    },
    {
     "name": "stdout",
     "output_type": "stream",
     "text": [
      " The Snow have been added to the shelter\n"
     ]
    }
   ],
   "source": [
    "pet={}\n",
    "def adopt_pet(pet:dict,pet_name:str,pet_type:str):\n",
    "    \n",
    "    if pet_name in pet:\n",
    "        print(f\"The {pet_name} already exist in the shelter\")\n",
    "    else:\n",
    "        pet[pet_name]=pet_type\n",
    "        print(f\" The {pet_name} have been added to the shelter\")\n",
    "        \n",
    "pet_name=input(\"Enter the name of the pet:\")\n",
    "pet_type=input(\"Enter the type of the pet:\")\n",
    "adopt_pet(pet,pet_name,pet_type)        "
   ]
  },
  {
   "cell_type": "code",
   "execution_count": null,
   "id": "a274dbd3-a785-4bd6-a66e-576321021544",
   "metadata": {},
   "outputs": [],
   "source": []
  }
 ],
 "metadata": {
  "kernelspec": {
   "display_name": "Python 3 (ipykernel)",
   "language": "python",
   "name": "python3"
  },
  "language_info": {
   "codemirror_mode": {
    "name": "ipython",
    "version": 3
   },
   "file_extension": ".py",
   "mimetype": "text/x-python",
   "name": "python",
   "nbconvert_exporter": "python",
   "pygments_lexer": "ipython3",
   "version": "3.13.2"
  },
  "widgets": {
   "application/vnd.jupyter.widget-state+json": {
    "state": {},
    "version_major": 2,
    "version_minor": 0
   }
  }
 },
 "nbformat": 4,
 "nbformat_minor": 5
}
