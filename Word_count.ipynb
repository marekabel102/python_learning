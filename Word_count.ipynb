{
 "cells": [
  {
   "cell_type": "code",
   "execution_count": 4,
   "id": "87624a6f-4ff5-4918-b99d-8e3738c761e7",
   "metadata": {},
   "outputs": [
    {
     "name": "stdin",
     "output_type": "stream",
     "text": [
      "Enter your word to be counted: i am going home to eat\n"
     ]
    },
    {
     "name": "stdout",
     "output_type": "stream",
     "text": [
      "Yours number of words in the paragraph is 5 \n"
     ]
    }
   ],
   "source": [
    "paragraph=input(\"Enter your word to be counted:\")\n",
    "count=0\n",
    "for char in paragraph:\n",
    "    if char ==\" \" or char ==\"\\n\":\n",
    "        count+=1\n",
    "print(f\"Yours number of words in the paragraph is {count+1} \")        "
   ]
  },
  {
   "cell_type": "code",
   "execution_count": null,
   "id": "dbd11830-636a-4724-9690-58c0e1ec206e",
   "metadata": {},
   "outputs": [],
   "source": []
  },
  {
   "cell_type": "code",
   "execution_count": null,
   "id": "986aaaa9-1d64-4716-9ef3-e135801094cd",
   "metadata": {},
   "outputs": [],
   "source": []
  }
 ],
 "metadata": {
  "kernelspec": {
   "display_name": "Python 3 (ipykernel)",
   "language": "python",
   "name": "python3"
  },
  "language_info": {
   "codemirror_mode": {
    "name": "ipython",
    "version": 3
   },
   "file_extension": ".py",
   "mimetype": "text/x-python",
   "name": "python",
   "nbconvert_exporter": "python",
   "pygments_lexer": "ipython3",
   "version": "3.13.2"
  },
  "widgets": {
   "application/vnd.jupyter.widget-state+json": {
    "state": {},
    "version_major": 2,
    "version_minor": 0
   }
  }
 },
 "nbformat": 4,
 "nbformat_minor": 5
}
