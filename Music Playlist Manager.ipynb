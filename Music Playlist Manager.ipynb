{
 "cells": [
  {
   "cell_type": "code",
   "execution_count": 1,
   "id": "53284439-d17b-4035-911a-8fc13755f3bb",
   "metadata": {},
   "outputs": [
    {
     "name": "stdin",
     "output_type": "stream",
     "text": [
      "Enter the name of your playlist : Tape 1\n",
      "Enter the title of your song : Zkuti bwanj?\n",
      "Enter new playlist: Tape 2\n"
     ]
    },
    {
     "name": "stdout",
     "output_type": "stream",
     "text": [
      "The Zkuti bwanj? have been added to the playlist  of Tape 2\n"
     ]
    },
    {
     "name": "stdin",
     "output_type": "stream",
     "text": [
      "Enter new playlist: DND\n"
     ]
    },
    {
     "name": "stdout",
     "output_type": "stream",
     "text": [
      "The Zkuti bwanj? have been added to the playlist  of DND\n",
      "{'Tape 2': 'Zkuti bwanj?', 'DND': 'Zkuti bwanj?'}\n"
     ]
    }
   ],
   "source": [
    "playlist={}\n",
    "def add_sond_to_playlist(playlist:dict,playlist_name:str,song:str):\n",
    "    \n",
    "    if playlist_name in playlist:\n",
    "        playlist[playlist_name]=song\n",
    "        print(f\"The {song} have been added to the playlist  of {playlist_name}\")\n",
    "    else:\n",
    "        new_playlist=input(\"Enter new playlist:\")\n",
    "        playlist[new_playlist]=song\n",
    "        print(f\"The {song} have been added to the playlist  of {new_playlist}\")\n",
    "    return playlist\n",
    "\n",
    "playlist_name=input(\"Enter the name of your playlist :\")\n",
    "song=input(\"Enter the title of your song :\")\n",
    "\n",
    "add_sond_to_playlist(playlist,playlist_name,song)\n",
    "print(add_sond_to_playlist(playlist,playlist_name,song))"
   ]
  },
  {
   "cell_type": "code",
   "execution_count": null,
   "id": "dc23e9d8-91d8-4f3f-9f8d-c3af317faf13",
   "metadata": {},
   "outputs": [],
   "source": []
  }
 ],
 "metadata": {
  "kernelspec": {
   "display_name": "Python 3 (ipykernel)",
   "language": "python",
   "name": "python3"
  },
  "language_info": {
   "codemirror_mode": {
    "name": "ipython",
    "version": 3
   },
   "file_extension": ".py",
   "mimetype": "text/x-python",
   "name": "python",
   "nbconvert_exporter": "python",
   "pygments_lexer": "ipython3",
   "version": "3.13.2"
  },
  "widgets": {
   "application/vnd.jupyter.widget-state+json": {
    "state": {},
    "version_major": 2,
    "version_minor": 0
   }
  }
 },
 "nbformat": 4,
 "nbformat_minor": 5
}
