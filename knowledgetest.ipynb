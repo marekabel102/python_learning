{
 "cells" : [
  {
   "cell_type": "code",
   "execution_count": 18,
   "id": "3dc82d32-e902-452d-b185-869736e2fc87",
   "metadata": {},
   "outputs": [
    {
     "name": "stdout",
     "output_type": "stream",
     "text": [
      "Question 0\n"
     ]
    },
    {
     "name": "stdin",
     "output_type": "stream",
     "text": [
      "Enter a number to be taken as length: 3\n",
      "Enter a number to be taken as width: 6\n"
     ]
    },
    {
     "name": "stdout",
     "output_type": "stream",
     "text": [
      "Area of a Rectangle is 18\n"
     ]
    }
   ],
   "source" : [
    "print(\"Question 0\")\n",
    "\n",
    "length=int(input(\"Enter a number to be taken as length:\"))\n",
    "width=int(input(\"Enter a number to be taken as width:\"))\n",
    "Area= length*width\n",
    "print(\"Area of a Rectangle is\",Area)"
   ]
  },
  {
   "cell_type": "code",
   "execution_count": 2,
   "id": "5473bd68-822b-4bb1-ad68-fd572e56593b",
   "metadata": {},
   "outputs": [
    {
     "name" : "stdout",
     "output_type": "stream",
     "text" : [
      "Question 1\n",
      "a=10 and b=5\n"
     ]
    }
   ],
   "source": [
    "print(\"Question 1\")\n",
    "a=5\n",
    "b=10\n",
    "a=a+b\n",
    "b=a-b\n",
    "a=a-b\n",
    "print(f\"a={a} and b={b}\")"
   ]
  },
  {
   "cell_type": "code",
   "execution_count": 3,
   "id": "436dac30-8ee7-4822-9d8a-401b29b69935",
   "metadata": {},
   "outputs": [
    {
     "name": "stdout",
     "output_type": "stream",
     "text": [
      "Question 2\n"
     ]
    },
    {
     "name": "stdin",
     "output_type": "stream",
     "text": [
      "Enter any number: 6\n"
     ]
    },
    {
     "name": "stdout",
     "output_type": "stream",
     "text": [
      "Positive\n"
     ]
    }
   ],
   "source": [
    "print(\"Question 2\")\n",
    "\n",
    "numberInput=int(input(\"Enter any number:\"))\n",
    "if numberInput >0:\n",
    "    print(\"Positive\")\n",
    "elif numberInput <0:\n",
    "    print(\"Negative\")\n",
    "else:\n",
    "    print(\"Zero\")"
   ]
  },
  {
   "cell_type": "code",
   "execution_count": 5,
   "id": "e789b9ef-b95b-45e5-8003-615157d931df",
   "metadata": {},
   "outputs": [
    {
     "name": "stdout",
     "output_type": "stream",
     "text": [
      "Question 3\n"
     ]
    },
    {
     "name": "stdin",
     "output_type": "stream",
     "text": [
      "Enter any number: 88\n"
     ]
    },
    {
     "name": "stdout",
     "output_type": "stream",
     "text": [
      "The number is an even number\n"
     ]
    }
   ],
   "source": [
    "print(\"Question 3\")\n",
    "\n",
    "Number=int(input(\"Enter any number:\"))\n",
    "if Number % 2==0:\n",
    "    print(\"The number is an even number\")\n",
    "else:\n",
    "    print(\"The number is an odd number\")"
   ]
  },
  {
   "cell_type": "code",
   "execution_count": 16,
   "id": "6b3b380d-8315-4579-b627-ff9c9eba32ae",
   "metadata": {},
   "outputs": [
    {
     "name": "stdout",
     "output_type": "stream",
     "text": [
      "Question 4\n"
     ]
    },
    {
     "name": "stdin",
     "output_type": "stream",
     "text": [
      "Enter the first number: 3\n",
      "Enter the second number: 3\n",
      "Enter the third number: 5\n"
     ]
    },
    {
     "name": "stdout",
     "output_type": "stream",
     "text": [
      "The Largest Number\n"
     ]
    }
   ],
   "source": [
    "print(\"Question 4\")\n",
    "\n",
    "numInput1=int(input(\"Enter the first number:\"))\n",
    "numInput2=int(input(\"Enter the second number:\"))\n",
    "numInput3=int(input(\"Enter the third number:\"))\n",
    "if numInput1<numInput2 and numInput1<numInput3 and numInput2<numInput3 and numInput2<numInput1:\n",
    "    result=\"The number is small\"\n",
    "else:\n",
    "    print(\"The Largest Number\")"
   ]
  },
  {
   "cell_type": "code",
   "execution_count": 9,
   "id": "df2e83a5-cfb8-429f-b54f-575cbbe6e01c",
   "metadata": {},
   "outputs": [
    {
     "name": "stdout",
     "output_type": "stream",
     "text": [
      "Question 4\n"
     ]
    },
    {
     "name": "stdin",
     "output_type": "stream",
     "text": [
      "Enter any number: 2\n"
     ]
    },
    {
     "name": "stdout",
     "output_type": "stream",
     "text": [
      "2\n",
      "4\n",
      "6\n",
      "8\n",
      "10\n",
      "12\n",
      "14\n",
      "16\n",
      "18\n"
     ]
    }
   ],
   "source": [
    "print(\"Question 4\")\n",
    "\n",
    "Number=int(input(\"Enter any number:\"))\n",
    "for i in range(1,10):\n",
    "    Result=Number*i\n",
    "    print(f\"{Result}\")"
   ]
  },
  {
   "cell_type": "code",
   "execution_count": 5,
   "id": "7a570150-8c4b-4eb5-a0e1-991864df32b5",
   "metadata": {},
   "outputs": [
    {
     "name": "stdout",
     "output_type": "stream",
     "text": [
      "Question 6\n"
     ]
    },
    {
     "name": "stdin",
     "output_type": "stream",
     "text": [
      "Type a word with vowels to be counted: martha\n"
     ]
    },
    {
     "name": "stdout",
     "output_type": "stream",
     "text": [
      "1\n",
      "2\n",
      "3\n",
      "4\n",
      "5\n",
      "6\n"
     ]
    }
   ],
   "source": [
    "print(\"Question 6\")\n",
    "\n",
    "variable_name=input(\"Type a word with vowels to be counted:\").lower()\n",
    "vowels=\"aeiou\"\n",
    "count=0\n",
    "# has_vowels=False\n",
    "for char in variable_name:\n",
    "    if variable_name ==\"a\" or \"e\" or \"i\" or \"o\" or \"u\":\n",
    "        count+=1\n",
    "        # has_vowels=True\n",
    "        print(count)\n",
    "    else:\n",
    "        print(\"Please type a word that has a vowel\")"
   ]
  },
  {
   "cell_type": "code",
   "execution_count": 6,
   "id": "cc3ab69f-9968-427e-91ce-48ae979e8496",
   "metadata": {},
   "outputs": [
    {
     "name": "stdin",
     "output_type": "stream",
     "text": [
      "Enter any number: 21\n"
     ]
    },
    {
     "name": "stdout",
     "output_type": "stream",
     "text": [
      "The number\n"
     ]
    }
   ],
   "source": [
    "num=int(input(\"Enter any number:\"))\n",
    "for i in range(1,100):\n",
    "    if num % 7==0:\n",
    "        print(\"The number\")\n",
    "        break\n",
    "else:\n",
    "    print(\"Exit\")"
   ]
  },
  {
   "cell_type": "code",
   "execution_count": null,
   "id": "25dab259-b3b6-4d59-a800-1ca21a13446b",
   "metadata": {},
   "outputs": [],
   "source": []
  }
 ],
 "metadata": {
  "kernelspec": {
   "display_name": "Python 3 (ipykernel)",
   "language": "python",
   "name": "python3"
  },
  "language_info": {
   "codemirror_mode": {
    "name": "ipython",
    "version": 3
   },
   "file_extension": ".py",
   "mimetype": "text/x-python",
   "name": "python",
   "nbconvert_exporter": "python",
   "pygments_lexer": "ipython3",
   "version": "3.13.2"
  },
  "widgets": {
   "application/vnd.jupyter.widget-state+json": {
    "state": {},
    "version_major": 2,
    "version_minor": 0
   }
  }
 },
 "nbformat": 4,
 "nbformat_minor": 5
}
